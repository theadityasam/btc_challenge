{
 "metadata": {
  "language_info": {
   "codemirror_mode": {
    "name": "ipython",
    "version": 3
   },
   "file_extension": ".py",
   "mimetype": "text/x-python",
   "name": "python",
   "nbconvert_exporter": "python",
   "pygments_lexer": "ipython3",
   "version": "3.9.5-final"
  },
  "orig_nbformat": 2,
  "kernelspec": {
   "name": "python39564bitvenvvenvdf5f331e66bc44c989e924f47d527d63",
   "display_name": "Python 3.9.5 64-bit ('venv': venv)"
  }
 },
 "nbformat": 4,
 "nbformat_minor": 2,
 "cells": [
  {
   "cell_type": "code",
   "execution_count": 45,
   "metadata": {},
   "outputs": [],
   "source": [
    "\"\"\"Parse the CSV file and return a list of MempoolTransactions.\"\"\"\n",
    "def parse_csv(filename):\n",
    "    with open(filename) as f:\n",
    "        return [line.strip().split(',') for line in f.readlines()]\n",
    "\n",
    "def create_valid_mempool_list(parsed):\n",
    "    block_ids = []\n",
    "    block_fee = []\n",
    "    block_wts = []\n",
    "    parent_set = set()\n",
    "    for x in parsed:\n",
    "        if x[1].isnumeric() and x[2].isnumeric():\n",
    "            parent_set.add(x[0])\n",
    "            if x[3] ==\"\" or parent_set.issuperset(x[3].split(';')):\n",
    "                block_ids.append(x[0])\n",
    "                block_fee.append(int(x[1]))\n",
    "                block_wts.append(int(x[2]))\n",
    "    return (block_ids, block_fee, block_wts)\n"
   ]
  },
  {
   "cell_type": "code",
   "execution_count": 39,
   "metadata": {},
   "outputs": [],
   "source": [
    "import numpy as np\n",
    "\n",
    "def get_optimal_blocks_dp(values,weights,n_items,capacity=4000000,return_all=False):\n",
    "    check_inputs(values,weights,n_items,capacity)\n",
    "\n",
    "    table = np.zeros((n_items+1,capacity+1),dtype=np.float32)\n",
    "    keep = np.zeros((n_items+1,capacity+1),dtype=np.float32)\n",
    "\n",
    "    for i in range(1,n_items+1):\n",
    "        for w in range(0,capacity+1):\n",
    "            wi = weights[i-1] # weight of current item\n",
    "            vi = values[i-1] # value of current item\n",
    "            if (wi <= w) and (vi + table[i-1,w-wi] > table[i-1,w]):\n",
    "                table[i,w] = vi + table[i-1,w-wi]\n",
    "                keep[i,w] = 1\n",
    "            else:\n",
    "                table[i,w] = table[i-1,w]\n",
    "    picks = []\n",
    "    K = capacity\n",
    "    for i in range(n_items,0,-1):\n",
    "        if keep[i,K] == 1:\n",
    "            picks.append(i)\n",
    "            K -= weights[i-1]\n",
    "    picks.sort()\n",
    "    picks = [x-1 for x in picks] # change to 0-index\n",
    "    if return_all:\n",
    "        max_val = table[n_items,capacity]\n",
    "        return (picks,max_val)\n",
    "    return picks\n",
    "\n",
    "def check_inputs(values,weights,n_items,capacity):\n",
    "    # check variable type\n",
    "    assert(isinstance(values,list))\n",
    "    assert(isinstance(weights,list))\n",
    "    assert(isinstance(n_items,int))\n",
    "    assert(isinstance(capacity,int))\n",
    "    # check value type\n",
    "    assert(all(isinstance(val,int) or isinstance(val,float) for val in values))\n",
    "    assert(all(isinstance(val,int) for val in weights))\n",
    "    # check validity of value\n",
    "    assert(all(val >= 0 for val in weights))\n",
    "    assert(n_items > 0)\n",
    "    assert(capacity > 0)"
   ]
  },
  {
   "cell_type": "code",
   "execution_count": 46,
   "metadata": {},
   "outputs": [],
   "source": [
    "temp = parse_csv(\"test.csv\")\n",
    "block_ids, block_fee, block_wts = create_valid_mempool_list(temp)\n",
    "optimal_block_list = get_optimal_blocks(block_fee, block_wts, len(block_ids))\n",
    "result = [block_ids[i] for i in optimal_block_list]"
   ]
  },
  {
   "cell_type": "code",
   "execution_count": 60,
   "metadata": {},
   "outputs": [],
   "source": [
    "from datetime import datetime\n",
    "filename = \"Blocklist \"+str(datetime.utcnow())+\".txt\""
   ]
  },
  {
   "cell_type": "code",
   "execution_count": 61,
   "metadata": {},
   "outputs": [],
   "source": [
    "textfile = open(filename, \"w\")\n",
    "for element in result:\n",
    "    textfile.write(element + \"\\n\")\n",
    "textfile.close()"
   ]
  },
  {
   "cell_type": "code",
   "execution_count": 8,
   "metadata": {},
   "outputs": [
    {
     "output_type": "stream",
     "name": "stderr",
     "text": [
      "Loading...: 100%|██████████| 501/501 [00:20<00:00, 680.74it/s]"
     ]
    }
   ],
   "source": [
    "from tqdm.auto import tqdm\n",
    "tnum = 500\n",
    "loop = tqdm(total = tnum+1, position=0, leave=False)\n",
    "for i in range(501):\n",
    "    loop.set_description(\"Loading...\".format(i))\n",
    "    loop.update(1)\n",
    "# import time\n",
    "# with tqdm(total=1000, desc=\"Adding Users\", bar_format=\"{l_bar}{bar} [ time left: {remaining} ]\") as pbar:\n",
    "#     for i in range(100):\n",
    "#         time.sleep(3)\n",
    "#         pbar.update(1)"
   ]
  },
  {
   "cell_type": "code",
   "execution_count": null,
   "metadata": {},
   "outputs": [],
   "source": [
    "# Composition template\n",
    "# def increment(num): \n",
    "#     return num + 1 \n",
    " \n",
    "# def square(num): \n",
    "#     return num * num \n",
    " \n",
    "# nine = square(increment(2)) \n",
    "# five = increment(square(2)) \n",
    " \n",
    "# class NumHooker: \n",
    "#     def __init__(self): \n",
    "#         self.funclist = list() \n",
    "#         self.add(lambda x: x) \n",
    "#     def __call__(self, num): \n",
    "#         result = num \n",
    "#         for each_func in self.funclist: \n",
    "#             result = each_func(result) \n",
    "#         return result \n",
    "#     def add(self, func): \n",
    "#         self.funclist.append(func) \n",
    " \n",
    "# incsquare = NumHooker() \n",
    "# incsquare.add(increment) \n",
    "# incsquare.add(square) \n",
    " \n",
    "# five = incsquare(2) "
   ]
  },
  {
   "cell_type": "code",
   "execution_count": 39,
   "metadata": {},
   "outputs": [],
   "source": [
    "import utils\n",
    "\n",
    "\n",
    "class MempoolTransaction():\n",
    "    def __init__(self, txid, fee, weight):\n",
    "        self.txid = txid\n",
    "        self.fee = int(fee)\n",
    "        self.weight = int(weight)\n",
    "\n",
    "    def __lt__(self, other):\n",
    "        return (float(self.fee)/float(self.weight)) > (float(other.fee)/float(other.weight))\n",
    "\n",
    "# def main():\n",
    "#     filename = \"mempool.csv\"\n",
    "#     parsed = utils.parse_csv(filename)\n",
    "#     block_ids, block_fee, block_wts = utils.create_valid_mempool_list(parsed)\n",
    "    \n",
    "\n",
    "# if __name__ == \"__main__\":\n",
    "#     main()\n"
   ]
  },
  {
   "cell_type": "code",
   "execution_count": 40,
   "metadata": {},
   "outputs": [],
   "source": [
    "filename = \"mempool.csv\"\n",
    "max_block_weight = 4e6\n",
    "parsed = utils.parse_csv(filename)\n",
    "block_ids, block_fee, block_wts = utils.create_valid_mempool_list(parsed)\n",
    "mempool_list = [MempoolTransaction(block_ids[i], block_fee[i], block_wts[i]) for i in range(len(block_ids))]\n",
    "# mempool_list.sort()"
   ]
  },
  {
   "cell_type": "code",
   "execution_count": 44,
   "metadata": {},
   "outputs": [
    {
     "output_type": "stream",
     "name": "stdout",
     "text": [
      "3999344\n5623886\n"
     ]
    }
   ],
   "source": [
    "result = []\n",
    "weight_sum = 0\n",
    "fee_sum = 0\n",
    "for transaction in mempool_list:\n",
    "    if weight_sum + transaction.weight < max_block_weight:\n",
    "        result.append(transaction.txid)\n",
    "        weight_sum += transaction.weight\n",
    "        fee_sum += transaction.fee\n",
    "    else:\n",
    "        break\n",
    "#     if weight_sum > max_block_weight:\n",
    "#         break\n",
    "#     else:\n",
    "#         result.append(transaction.txid)\n",
    "print(weight_sum)\n",
    "print(fee_sum)"
   ]
  },
  {
   "cell_type": "code",
   "execution_count": 46,
   "metadata": {},
   "outputs": [
    {
     "output_type": "stream",
     "name": "stdout",
     "text": [
      "149.62908011869436\n90000\nElements in the block: 3207\nTotal sum of the elements: 5623886\nTotal weight of the elements: 3999344\n"
     ]
    }
   ],
   "source": [
    "print(mempool_list[0].fee/mempool_list[0].weight)\n",
    "print(mempool_list[1].fee)\n",
    "test_block(block_ids, block_fee, block_wts, result)"
   ]
  },
  {
   "cell_type": "code",
   "execution_count": 45,
   "metadata": {},
   "outputs": [],
   "source": [
    "def test_block(mempool_list, values, weights, block_entries):\n",
    "    value_list = dict(zip(mempool_list, values))\n",
    "    weight_list = dict(zip(mempool_list, weights))\n",
    "    sum = 0\n",
    "    wts = 0\n",
    "    for i in block_entries:\n",
    "        sum += value_list[i]\n",
    "        wts += weight_list[i]\n",
    "    print(\"Elements in the block: \"+str(len(block_entries)))\n",
    "    print(\"Total sum of the elements: \"+str(sum))\n",
    "    print(\"Total weight of the elements: \"+str(wts))\n"
   ]
  }
 ]
}