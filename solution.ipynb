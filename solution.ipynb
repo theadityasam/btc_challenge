{
 "metadata": {
  "language_info": {
   "codemirror_mode": {
    "name": "ipython",
    "version": 3
   },
   "file_extension": ".py",
   "mimetype": "text/x-python",
   "name": "python",
   "nbconvert_exporter": "python",
   "pygments_lexer": "ipython3",
   "version": "3.9.5-final"
  },
  "orig_nbformat": 2,
  "kernelspec": {
   "name": "python39564bitvenvvenvdf5f331e66bc44c989e924f47d527d63",
   "display_name": "Python 3.9.5 64-bit ('venv': venv)"
  }
 },
 "nbformat": 4,
 "nbformat_minor": 2,
 "cells": [
  {
   "cell_type": "code",
   "execution_count": 97,
   "metadata": {},
   "outputs": [],
   "source": [
    "class MempoolTransaction():\n",
    "    def __init__(self, txid, fee, weight, parents):\n",
    "        if fee.isnumeric() and weight.isnumeric():\n",
    "            self.txid = txid\n",
    "            self.fee = int(fee)\n",
    "            # TODO: add code to parse weight and parents fields\n",
    "            self.weight = int(weight)\n",
    "            self.parents = [parents.split(';')]\n",
    "\n",
    "\n",
    "\"\"\"Parse the CSV file and return a list of MempoolTransactions.\"\"\"\n",
    "def parse_csv(filename):\n",
    "    with open(filename) as f:\n",
    "        # parsed = [line.strip().split(',') for line in f.readlines()]\n",
    "        # return ([MempoolTransaction(*x) for x in parsed if x[1].isnumeric()])\n",
    "        return [line.strip().split(',') for line in f.readlines()]\n",
    "\n",
    "def create_valid_mempool_list(parsed):\n",
    "    mpool = []\n",
    "    parent_set = set()\n",
    "    for x in parsed:\n",
    "        if x[1].isnumeric() and x[2].isnumeric():\n",
    "            parent_set.add(x[0])\n",
    "            if parent_set.issuperset(x[3].split(';')):\n",
    "                mpool.append(MempoolTransaction(*x))\n",
    "                # print(x[0])\n",
    "    return mpool\n"
   ]
  },
  {
   "cell_type": "code",
   "execution_count": 98,
   "metadata": {},
   "outputs": [
    {
     "output_type": "stream",
     "name": "stdout",
     "text": [
      "{'2e3da8fbc1eaca8ed9b7c2db9e6545d8ccac3c67deadee95db050e41c1eedfc0', 'b0ef627c8dc2a706475d33d7712209ec779f7a8302aaeab86c64cf00316a3df8', '8c25f9be93990b96e8bc363778d6debee6867c7d73cefab69405d41e677b536c', '9d317fb308fd5451fd0ec612165638cb9e37bd8aa8918dff99a48fe05224276f', '79c51c9d4124c5cbb37a85263748dcf44e182dff83561fa3087f0e9e43f41c33'}\n"
     ]
    }
   ],
   "source": [
    "temp = parse_csv(\"test.csv\")\n",
    "mpool = create_mempool_list(temp)\n",
    "# mpool[0].fee"
   ]
  },
  {
   "cell_type": "code",
   "execution_count": 95,
   "metadata": {},
   "outputs": [
    {
     "output_type": "execute_result",
     "data": {
      "text/plain": [
       "True"
      ]
     },
     "metadata": {},
     "execution_count": 95
    }
   ],
   "source": [
    "a = {1,2,3,4}\n",
    "b = {2,3}\n",
    "a.issuperset(b)"
   ]
  },
  {
   "cell_type": "code",
   "execution_count": null,
   "metadata": {},
   "outputs": [],
   "source": [
    "# def increment(num): \n",
    "#     return num + 1 \n",
    " \n",
    "# def square(num): \n",
    "#     return num * num \n",
    " \n",
    "# nine = square(increment(2)) \n",
    "# five = increment(square(2)) \n",
    " \n",
    "# class NumHooker: \n",
    "#     def __init__(self): \n",
    "#         self.funclist = list() \n",
    "#         self.add(lambda x: x) \n",
    "#     def __call__(self, num): \n",
    "#         result = num \n",
    "#         for each_func in self.funclist: \n",
    "#             result = each_func(result) \n",
    "#         return result \n",
    "#     def add(self, func): \n",
    "#         self.funclist.append(func) \n",
    " \n",
    "# incsquare = NumHooker() \n",
    "# incsquare.add(increment) \n",
    "# incsquare.add(square) \n",
    " \n",
    "# five = incsquare(2) "
   ]
  }
 ]
}