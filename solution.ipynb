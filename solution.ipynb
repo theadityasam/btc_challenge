{
 "metadata": {
  "language_info": {
   "codemirror_mode": {
    "name": "ipython",
    "version": 3
   },
   "file_extension": ".py",
   "mimetype": "text/x-python",
   "name": "python",
   "nbconvert_exporter": "python",
   "pygments_lexer": "ipython3",
   "version": "3.9.5-final"
  },
  "orig_nbformat": 2,
  "kernelspec": {
   "name": "python39564bitvenvvenvdf5f331e66bc44c989e924f47d527d63",
   "display_name": "Python 3.9.5 64-bit ('venv': venv)"
  }
 },
 "nbformat": 4,
 "nbformat_minor": 2,
 "cells": [
  {
   "cell_type": "code",
   "execution_count": 103,
   "metadata": {},
   "outputs": [],
   "source": [
    "class MempoolTransaction():\n",
    "    def __init__(self, txid, fee, weight, parents):\n",
    "        if fee.isnumeric() and weight.isnumeric():\n",
    "            self.txid = txid\n",
    "            self.fee = int(fee)\n",
    "            # TODO: add code to parse weight and parents fields\n",
    "            self.weight = int(weight)\n",
    "            self.parents = [parents.split(';')]\n",
    "\n",
    "\n",
    "\"\"\"Parse the CSV file and return a list of MempoolTransactions.\"\"\"\n",
    "def parse_csv(filename):\n",
    "    with open(filename) as f:\n",
    "        # parsed = [line.strip().split(',') for line in f.readlines()]\n",
    "        # return ([MempoolTransaction(*x) for x in parsed if x[1].isnumeric()])\n",
    "        return [line.strip().split(',') for line in f.readlines()]\n",
    "\n",
    "def create_valid_mempool_list(parsed):\n",
    "    mpool = []\n",
    "    parent_set = set()\n",
    "    for x in parsed:\n",
    "        if x[1].isnumeric() and x[2].isnumeric():\n",
    "            parent_set.add(x[0])\n",
    "            if parent_set.issuperset(x[3].split(';')):\n",
    "                mpool.append(MempoolTransaction(*x))\n",
    "    return mpool\n"
   ]
  },
  {
   "cell_type": "code",
   "execution_count": 1,
   "metadata": {},
   "outputs": [
    {
     "output_type": "error",
     "ename": "NameError",
     "evalue": "name 'parse_csv' is not defined",
     "traceback": [
      "\u001b[0;31m---------------------------------------------------------------------------\u001b[0m",
      "\u001b[0;31mNameError\u001b[0m                                 Traceback (most recent call last)",
      "\u001b[0;32m<ipython-input-1-b87f5525bbdd>\u001b[0m in \u001b[0;36m<module>\u001b[0;34m\u001b[0m\n\u001b[0;32m----> 1\u001b[0;31m \u001b[0mtemp\u001b[0m \u001b[0;34m=\u001b[0m \u001b[0mparse_csv\u001b[0m\u001b[0;34m(\u001b[0m\u001b[0;34m\"test.csv\"\u001b[0m\u001b[0;34m)\u001b[0m\u001b[0;34m\u001b[0m\u001b[0;34m\u001b[0m\u001b[0m\n\u001b[0m",
      "\u001b[0;31mNameError\u001b[0m: name 'parse_csv' is not defined"
     ]
    }
   ],
   "source": [
    "temp = parse_csv(\"test.csv\")"
   ]
  },
  {
   "cell_type": "code",
   "execution_count": 105,
   "metadata": {},
   "outputs": [],
   "source": [
    "mpool = create_valid_mempool_list(temp)"
   ]
  },
  {
   "cell_type": "code",
   "execution_count": 20,
   "metadata": {},
   "outputs": [
    {
     "output_type": "stream",
     "name": "stdout",
     "text": [
      "780\n4\n3\n2\n1\n"
     ]
    }
   ],
   "source": [
    "def best_fit(W, wt, item_no, val, n):\n",
    "    K = [[0 for w in range(W + 1)]\n",
    "            for i in range(n + 1)]\n",
    "    for i in range(n + 1):\n",
    "        for w in range(W + 1):\n",
    "            if i == 0 or w == 0:\n",
    "                K[i][w] = 0\n",
    "            elif wt[i - 1] <= w:\n",
    "                K[i][w] = max(val[i - 1]\n",
    "                  + K[i - 1][w - wt[i - 1]],\n",
    "                               K[i - 1][w])\n",
    "            else:\n",
    "                K[i][w] = K[i - 1][w]\n",
    " \n",
    "    # stores the result of Knapsack\n",
    "    res = K[n][W]\n",
    "    print(res)\n",
    "     \n",
    "    w = W\n",
    "    for i in range(n, 0, -1):\n",
    "        if res <= 0:\n",
    "            break\n",
    "        # either the result comes from the\n",
    "        # top (K[i-1][w]) or from (val[i-1]\n",
    "        # + K[i-1] [w-wt[i-1]]) as in Knapsack\n",
    "        # table. If it comes from the latter\n",
    "        # one/ it means the item is included.\n",
    "        if res == K[i - 1][w]:\n",
    "            continue\n",
    "        else:\n",
    " \n",
    "            # This item is included.\n",
    "            print(item_no[i - 1])\n",
    "             \n",
    "            # Since this weight is included\n",
    "            # its value is deducted\n",
    "            res = res - val[i - 1]\n",
    "            w = w - wt[i - 1]\n",
    " \n",
    "# Driver code\n",
    "val = [ 160, 100, 120,400 ]\n",
    "wt = [ 10, 20, 30,10 ]\n",
    "item_no = [1,2,3,4]\n",
    "W = 100\n",
    "n = len(val)\n",
    "     \n",
    "best_fit(W, wt,item_no, val, n)"
   ]
  },
  {
   "cell_type": "code",
   "execution_count": null,
   "metadata": {},
   "outputs": [],
   "source": [
    "# def increment(num): \n",
    "#     return num + 1 \n",
    " \n",
    "# def square(num): \n",
    "#     return num * num \n",
    " \n",
    "# nine = square(increment(2)) \n",
    "# five = increment(square(2)) \n",
    " \n",
    "# class NumHooker: \n",
    "#     def __init__(self): \n",
    "#         self.funclist = list() \n",
    "#         self.add(lambda x: x) \n",
    "#     def __call__(self, num): \n",
    "#         result = num \n",
    "#         for each_func in self.funclist: \n",
    "#             result = each_func(result) \n",
    "#         return result \n",
    "#     def add(self, func): \n",
    "#         self.funclist.append(func) \n",
    " \n",
    "# incsquare = NumHooker() \n",
    "# incsquare.add(increment) \n",
    "# incsquare.add(square) \n",
    " \n",
    "# five = incsquare(2) "
   ]
  }
 ]
}