{
 "metadata": {
  "language_info": {
   "codemirror_mode": {
    "name": "ipython",
    "version": 3
   },
   "file_extension": ".py",
   "mimetype": "text/x-python",
   "name": "python",
   "nbconvert_exporter": "python",
   "pygments_lexer": "ipython3",
   "version": "3.9.5-final"
  },
  "orig_nbformat": 2,
  "kernelspec": {
   "name": "python39564bitvenvvenvdf5f331e66bc44c989e924f47d527d63",
   "display_name": "Python 3.9.5 64-bit ('venv': venv)"
  }
 },
 "nbformat": 4,
 "nbformat_minor": 2,
 "cells": [
  {
   "cell_type": "code",
   "execution_count": 45,
   "metadata": {},
   "outputs": [],
   "source": [
    "# class MempoolTransaction():\n",
    "#     def __init__(self, txid, fee, weight, parents):\n",
    "#         if fee.isnumeric() and weight.isnumeric():\n",
    "#             self.txid = txid\n",
    "#             self.fee = int(fee)\n",
    "#             # TODO: add code to parse weight and parents fields\n",
    "#             self.weight = int(weight)\n",
    "#             self.parents = [parents.split(';')]\n",
    "\n",
    "\n",
    "\"\"\"Parse the CSV file and return a list of MempoolTransactions.\"\"\"\n",
    "def parse_csv(filename):\n",
    "    with open(filename) as f:\n",
    "        # parsed = [line.strip().split(',') for line in f.readlines()]\n",
    "        # return ([MempoolTransaction(*x) for x in parsed if x[1].isnumeric()])\n",
    "        return [line.strip().split(',') for line in f.readlines()]\n",
    "\n",
    "def create_valid_mempool_list(parsed):\n",
    "    # mpool = []\n",
    "    block_ids = []\n",
    "    block_fee = []\n",
    "    block_wts = []\n",
    "    parent_set = set()\n",
    "    for x in parsed:\n",
    "        if x[1].isnumeric() and x[2].isnumeric():\n",
    "            parent_set.add(x[0])\n",
    "            if x[3] ==\"\" or parent_set.issuperset(x[3].split(';')):\n",
    "                block_ids.append(x[0])\n",
    "                block_fee.append(int(x[1]))\n",
    "                block_wts.append(int(x[2]))\n",
    "                # mpool.append(MempoolTransaction(*x))\n",
    "    return (block_ids, block_fee, block_wts)\n"
   ]
  },
  {
   "cell_type": "code",
   "execution_count": 39,
   "metadata": {},
   "outputs": [],
   "source": [
    "import numpy as np\n",
    "\n",
    "def get_optimal_blocks(values,weights,n_items,capacity=4000000,return_all=False):\n",
    "    check_inputs(values,weights,n_items,capacity)\n",
    "\n",
    "    table = np.zeros((n_items+1,capacity+1),dtype=np.float32)\n",
    "    keep = np.zeros((n_items+1,capacity+1),dtype=np.float32)\n",
    "\n",
    "    for i in range(1,n_items+1):\n",
    "        for w in range(0,capacity+1):\n",
    "            wi = weights[i-1] # weight of current item\n",
    "            vi = values[i-1] # value of current item\n",
    "            if (wi <= w) and (vi + table[i-1,w-wi] > table[i-1,w]):\n",
    "                table[i,w] = vi + table[i-1,w-wi]\n",
    "                keep[i,w] = 1\n",
    "            else:\n",
    "                table[i,w] = table[i-1,w]\n",
    "\n",
    "    picks = []\n",
    "    K = capacity\n",
    "\n",
    "    for i in range(n_items,0,-1):\n",
    "        if keep[i,K] == 1:\n",
    "            picks.append(i)\n",
    "            K -= weights[i-1]\n",
    "\n",
    "    picks.sort()\n",
    "    picks = [x-1 for x in picks] # change to 0-index\n",
    "\n",
    "    if return_all:\n",
    "        max_val = table[n_items,capacity]\n",
    "        return (picks,max_val)\n",
    "    return picks\n",
    "\n",
    "def check_inputs(values,weights,n_items,capacity):\n",
    "    # check variable type\n",
    "    assert(isinstance(values,list))\n",
    "    assert(isinstance(weights,list))\n",
    "    assert(isinstance(n_items,int))\n",
    "    assert(isinstance(capacity,int))\n",
    "    # check value type\n",
    "    assert(all(isinstance(val,int) or isinstance(val,float) for val in values))\n",
    "    assert(all(isinstance(val,int) for val in weights))\n",
    "    # check validity of value\n",
    "    assert(all(val >= 0 for val in weights))\n",
    "    assert(n_items > 0)\n",
    "    assert(capacity > 0)\n",
    "\n",
    "# values = [2,3,9]\n",
    "# weights = [1,2,3]\n",
    "# n_items = 3\n",
    "# capacity = 1000000\n",
    "# picks = knapsack_dp(values,weights,n_items,capacity)\n",
    "# print(picks)"
   ]
  },
  {
   "cell_type": "code",
   "execution_count": 46,
   "metadata": {},
   "outputs": [],
   "source": [
    "temp = parse_csv(\"test.csv\")\n",
    "block_ids, block_fee, block_wts = create_valid_mempool_list(temp)\n",
    "optimal_block_list = get_optimal_blocks(block_fee, block_wts, len(block_ids))\n"
   ]
  },
  {
   "cell_type": "code",
   "execution_count": 48,
   "metadata": {},
   "outputs": [],
   "source": [
    "result = [block_ids[i] for i in optimal_block_list]"
   ]
  },
  {
   "cell_type": "code",
   "execution_count": 60,
   "metadata": {},
   "outputs": [],
   "source": [
    "from datetime import datetime\n",
    "filename = \"Blocklist \"+str(datetime.utcnow())+\".txt\""
   ]
  },
  {
   "cell_type": "code",
   "execution_count": 59,
   "metadata": {},
   "outputs": [
    {
     "output_type": "error",
     "ename": "FileNotFoundError",
     "evalue": "[Errno 2] No such file or directory: 'result/Blocklist 2021-06-17 10:02:27.280540'",
     "traceback": [
      "\u001b[0;31m---------------------------------------------------------------------------\u001b[0m",
      "\u001b[0;31mFileNotFoundError\u001b[0m                         Traceback (most recent call last)",
      "\u001b[0;32m<ipython-input-59-50f17c658a21>\u001b[0m in \u001b[0;36m<module>\u001b[0;34m\u001b[0m\n\u001b[0;32m----> 1\u001b[0;31m \u001b[0mtextfile\u001b[0m \u001b[0;34m=\u001b[0m \u001b[0mopen\u001b[0m\u001b[0;34m(\u001b[0m\u001b[0;34m\"result/\"\u001b[0m\u001b[0;34m+\u001b[0m\u001b[0mfilename\u001b[0m\u001b[0;34m,\u001b[0m \u001b[0;34m\"w\"\u001b[0m\u001b[0;34m)\u001b[0m\u001b[0;34m\u001b[0m\u001b[0;34m\u001b[0m\u001b[0m\n\u001b[0m\u001b[1;32m      2\u001b[0m \u001b[0;32mfor\u001b[0m \u001b[0melement\u001b[0m \u001b[0;32min\u001b[0m \u001b[0mresult\u001b[0m\u001b[0;34m:\u001b[0m\u001b[0;34m\u001b[0m\u001b[0;34m\u001b[0m\u001b[0m\n\u001b[1;32m      3\u001b[0m     \u001b[0mtextfile\u001b[0m\u001b[0;34m.\u001b[0m\u001b[0mwrite\u001b[0m\u001b[0;34m(\u001b[0m\u001b[0melement\u001b[0m \u001b[0;34m+\u001b[0m \u001b[0;34m\"\\n\"\u001b[0m\u001b[0;34m)\u001b[0m\u001b[0;34m\u001b[0m\u001b[0;34m\u001b[0m\u001b[0m\n\u001b[1;32m      4\u001b[0m \u001b[0mtextfile\u001b[0m\u001b[0;34m.\u001b[0m\u001b[0mclose\u001b[0m\u001b[0;34m(\u001b[0m\u001b[0;34m)\u001b[0m\u001b[0;34m\u001b[0m\u001b[0;34m\u001b[0m\u001b[0m\n",
      "\u001b[0;31mFileNotFoundError\u001b[0m: [Errno 2] No such file or directory: 'result/Blocklist 2021-06-17 10:02:27.280540'"
     ]
    }
   ],
   "source": [
    "textfile = open(filename, \"w\")\n",
    "for element in result:\n",
    "    textfile.write(element + \"\\n\")\n",
    "textfile.close()"
   ]
  },
  {
   "cell_type": "code",
   "execution_count": null,
   "metadata": {},
   "outputs": [],
   "source": []
  },
  {
   "cell_type": "code",
   "execution_count": 20,
   "metadata": {},
   "outputs": [
    {
     "output_type": "stream",
     "name": "stdout",
     "text": [
      "780\n4\n3\n2\n1\n"
     ]
    }
   ],
   "source": [
    "def best_fit(W, wt, item_no, val, n):\n",
    "    K = [[0 for w in range(W + 1)]\n",
    "            for i in range(n + 1)]\n",
    "    for i in range(n + 1):\n",
    "        for w in range(W + 1):\n",
    "            if i == 0 or w == 0:\n",
    "                K[i][w] = 0\n",
    "            elif wt[i - 1] <= w:\n",
    "                K[i][w] = max(val[i - 1]\n",
    "                  + K[i - 1][w - wt[i - 1]],\n",
    "                               K[i - 1][w])\n",
    "            else:\n",
    "                K[i][w] = K[i - 1][w]\n",
    " \n",
    "    # stores the result of Knapsack\n",
    "    res = K[n][W]\n",
    "    print(res)\n",
    "     \n",
    "    w = W\n",
    "    for i in range(n, 0, -1):\n",
    "        if res <= 0:\n",
    "            break\n",
    "        # either the result comes from the\n",
    "        # top (K[i-1][w]) or from (val[i-1]\n",
    "        # + K[i-1] [w-wt[i-1]]) as in Knapsack\n",
    "        # table. If it comes from the latter\n",
    "        # one/ it means the item is included.\n",
    "        if res == K[i - 1][w]:\n",
    "            continue\n",
    "        else:\n",
    " \n",
    "            # This item is included.\n",
    "            print(item_no[i - 1])\n",
    "             \n",
    "            # Since this weight is included\n",
    "            # its value is deducted\n",
    "            res = res - val[i - 1]\n",
    "            w = w - wt[i - 1]\n",
    " \n",
    "# Driver code\n",
    "val = [ 160, 100, 120,400 ]\n",
    "wt = [ 10, 20, 30,10 ]\n",
    "item_no = [1,2,3,4]\n",
    "W = 100\n",
    "n = len(val)\n",
    "     \n",
    "best_fit(W, wt,item_no, val, n)"
   ]
  },
  {
   "cell_type": "code",
   "execution_count": null,
   "metadata": {},
   "outputs": [],
   "source": [
    "# def increment(num): \n",
    "#     return num + 1 \n",
    " \n",
    "# def square(num): \n",
    "#     return num * num \n",
    " \n",
    "# nine = square(increment(2)) \n",
    "# five = increment(square(2)) \n",
    " \n",
    "# class NumHooker: \n",
    "#     def __init__(self): \n",
    "#         self.funclist = list() \n",
    "#         self.add(lambda x: x) \n",
    "#     def __call__(self, num): \n",
    "#         result = num \n",
    "#         for each_func in self.funclist: \n",
    "#             result = each_func(result) \n",
    "#         return result \n",
    "#     def add(self, func): \n",
    "#         self.funclist.append(func) \n",
    " \n",
    "# incsquare = NumHooker() \n",
    "# incsquare.add(increment) \n",
    "# incsquare.add(square) \n",
    " \n",
    "# five = incsquare(2) "
   ]
  },
  {
   "cell_type": "code",
   "execution_count": 37,
   "metadata": {},
   "outputs": [
    {
     "output_type": "stream",
     "name": "stdout",
     "text": [
      "[0, 1, 2]\n"
     ]
    }
   ],
   "source": []
  }
 ]
}